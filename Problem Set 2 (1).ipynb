{
 "cells": [
  {
   "cell_type": "markdown",
   "metadata": {},
   "source": [
    "### You have magically got your hands on the files attached (schools.csv), which happens to be a list of the one hundred most expensive schools in terms of tuition."
   ]
  },
  {
   "cell_type": "markdown",
   "metadata": {},
   "source": [
    "The file has values corresponding to the following\n",
    "\n",
    "\n",
    "1. Institution -- the name of the school\n",
    "2. City -- location of school, by city\n",
    "3. State -- location of school, by state\n",
    "4. UnID -- unique ID of the school\n",
    "5. Zip --  location of the school, by zip\n",
    "6. Branches -- number of campuses\n",
    "7. Region --  location of school, by region\n",
    "8. HBCU -- 1 if historically black, 0 otherwise\n",
    "9. MenOnly -- 1 if men only, 0 otherwise\n",
    "10. WomenOnly -- 1 if women only, 0 otherwise\n",
    "11. AdmissionRate -- school's admission rate\n",
    "12. SATAvg -- average SAT (if available). None if now\n",
    "13. TuitionFTE - full-time equivalent tuition\n",
    "14. PellPCT - percentage of students who receive government Pell grants\n"
   ]
  },
  {
   "cell_type": "markdown",
   "metadata": {},
   "source": [
    "#### Problem 1: Create a dictionary that links the given variable names with the values in schoos.csv\n",
    "#### Problem 2: Given your dictionary from (1) above, please show how you would check that  each dictionary item is of the same size\n",
    "#### Problem 3: Use your dictionary to create a dataframe\n",
    "#### Problem 5: Please show only the top 3 entries of your dataframe\n",
    "#### Problem 6: Please fill any None value with 0\n",
    "---\n",
    "\n",
    "#### Problem 7: What's the average amount of tuition at these schools? Does that differ from the median?\n",
    "#### Problem 8: How many schools are HBCUs? Men-only? Women-only?\n",
    "#### Problem 9: Please pick a threshold of what you think is expensive and then create a new column that indicates whether that school is cheap or expensive\n",
    "#### Problem 10: For the expensive school is (9) above, could you divide them to show a table where the number of Pell recepients is greater than 15%"
   ]
  },
  {
   "cell_type": "code",
   "execution_count": null,
   "metadata": {},
   "outputs": [],
   "source": []
  },
  {
   "cell_type": "markdown",
   "metadata": {},
   "source": []
  },
  {
   "cell_type": "code",
   "execution_count": null,
   "metadata": {
    "collapsed": true
   },
   "outputs": [],
   "source": []
  }
 ],
 "metadata": {
  "kernelspec": {
   "display_name": "Python 3",
   "language": "python",
   "name": "python3"
  },
  "language_info": {
   "codemirror_mode": {
    "name": "ipython",
    "version": 3
   },
   "file_extension": ".py",
   "mimetype": "text/x-python",
   "name": "python",
   "nbconvert_exporter": "python",
   "pygments_lexer": "ipython3",
   "version": "3.6.1"
  }
 },
 "nbformat": 4,
 "nbformat_minor": 2
}
